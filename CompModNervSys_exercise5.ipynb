{
  "cells": [
    {
      "cell_type": "markdown",
      "metadata": {
        "id": "view-in-github",
        "colab_type": "text"
      },
      "source": [
        "<a href=\"https://colab.research.google.com/github/Bouncy0Knight/5final/blob/main/CompModNervSys_exercise5.ipynb\" target=\"_parent\"><img src=\"https://colab.research.google.com/assets/colab-badge.svg\" alt=\"Open In Colab\"/></a>"
      ]
    },
    {
      "cell_type": "markdown",
      "metadata": {
        "id": "tSawaquoIBf9"
      },
      "source": [
        "# BIOL 74.03 (SP23): Computational Modeling of the Nervous System \n",
        "# Exercise 5: Simulating leaky integrate and fire neuron model in NEURON\n",
        "\n",
        "### Exercise goals\n",
        "\n",
        "1) Become familiar with basic functions of NEURON simulator package\n",
        "\n",
        "2) Simulate leaky integrate and fire neuron model in NEURON by adding spiking mechanism to RC neuron model\n",
        "\n",
        "3) Generate and understand frequency–input plot of neuronal excitability\n",
        "\n",
        "Work through the code below, running each cell, adding code where required, and making sure you understand the output. When you see questions with ***Q:*** preceding them, write your responses in text cells. \n"
      ]
    },
    {
      "cell_type": "code",
      "execution_count": 1,
      "metadata": {
        "colab": {
          "base_uri": "https://localhost:8080/"
        },
        "id": "VWO7brUSssu7",
        "outputId": "01f69d81-9a0d-44e8-f77a-f83736895bfe"
      },
      "outputs": [
        {
          "output_type": "stream",
          "name": "stdout",
          "text": [
            "Cloning into 'CompModNervSys-LIFneuron'...\n",
            "remote: Enumerating objects: 12, done.\u001b[K\n",
            "remote: Counting objects: 100% (12/12), done.\u001b[K\n",
            "remote: Compressing objects: 100% (8/8), done.\u001b[K\n",
            "remote: Total 12 (delta 2), reused 12 (delta 2), pack-reused 0\u001b[K\n",
            "Unpacking objects: 100% (12/12), 49.62 KiB | 438.00 KiB/s, done.\n"
          ]
        }
      ],
      "source": [
        "!git clone https://github.com/CompModNervSystem/CompModNervSys-LIFneuron.git # downloads repository into our Google colab session's file system\n",
        "\n"
      ]
    },
    {
      "cell_type": "markdown",
      "metadata": {
        "id": "eBkOxpfGh9ku"
      },
      "source": [
        "Since NEURON is an external toolbox (doesn't come prepackaged in Google colab), we'll need to install it at the start of a new session. There are a couple different ways to install python packages, but the easiest is to use the built in package installer `pip`. Normally, this would be done outside of the python environment in a command-line shell environemnt (e.g., from the `Terminal` app on mac/linux or one of the various shell environments on windows). But, we can also do this from within a Jupyter/Colab notebook using the the % sign (aka [magics](https://ipython.readthedocs.io/en/stable/interactive/magics.html)).\n",
        "\n",
        "Run the cell below to install NEURON"
      ]
    },
    {
      "cell_type": "code",
      "execution_count": 2,
      "metadata": {
        "id": "Bl-73zo2h9ku",
        "outputId": "493a6730-f06e-467b-938a-5c4a0002821d",
        "colab": {
          "base_uri": "https://localhost:8080/"
        }
      },
      "outputs": [
        {
          "output_type": "stream",
          "name": "stdout",
          "text": [
            "Looking in indexes: https://pypi.org/simple, https://us-python.pkg.dev/colab-wheels/public/simple/\n",
            "Collecting neuron\n",
            "  Downloading NEURON-8.2.2-cp39-cp39-manylinux_2_17_x86_64.manylinux2014_x86_64.whl (15.0 MB)\n",
            "\u001b[2K     \u001b[90m━━━━━━━━━━━━━━━━━━━━━━━━━━━━━━━━━━━━━━━━\u001b[0m \u001b[32m15.0/15.0 MB\u001b[0m \u001b[31m15.9 MB/s\u001b[0m eta \u001b[36m0:00:00\u001b[0m\n",
            "\u001b[?25hRequirement already satisfied: numpy>=1.9.3 in /usr/local/lib/python3.9/dist-packages (from neuron) (1.22.4)\n",
            "Installing collected packages: neuron\n",
            "Successfully installed neuron-8.2.2\n"
          ]
        }
      ],
      "source": [
        "%pip install neuron # only need to run this cell once to install \n",
        "                    # neuron in the local jupyter environment"
      ]
    },
    {
      "cell_type": "markdown",
      "metadata": {
        "id": "4dCjKnEvh9ku"
      },
      "source": [
        "We also need to compile a file used by NEURON to compute user-created membrane mechanisms more efficiently, called a [mod file](https://www.neuron.yale.edu/phpBB/viewtopic.php?t=3263). We'll use it for the final part of the exercise, but we need to compile it here before importing neuron. \n",
        "\n",
        "**Make sure to run this cell before importing neuron in the cell's below, otherwise the mechanism won't be loaded into our environment and we'll get errors later on.**"
      ]
    },
    {
      "cell_type": "code",
      "execution_count": 3,
      "metadata": {
        "id": "bhTdTSXKh9kv",
        "outputId": "96529606-ccc5-4da8-a7f1-1e9af68743d8",
        "colab": {
          "base_uri": "https://localhost:8080/"
        }
      },
      "outputs": [
        {
          "output_type": "stream",
          "name": "stdout",
          "text": [
            "/content\n",
            "Mod files: \"CompModNervSys-LIFneuron/mechanisms/CompModNervSys-LIFneuron/mechanisms/spikeout.mod\"\n",
            "\n",
            "Creating 'x86_64' directory for .o files.\n",
            "\n",
            " -> \u001b[32mCompiling\u001b[0m mod_func.cpp\n",
            " -> \u001b[32mNMODL\u001b[0m ../CompModNervSys-LIFneuron/mechanisms/spikeout.mod\n",
            "Translating spikeout.mod into /content/x86_64/spikeout.c\n",
            "Thread Safe\n",
            " -> \u001b[32mCompiling\u001b[0m spikeout.c\n",
            " => \u001b[32mLINKING\u001b[0m shared library ./libnrnmech.so\n",
            " => \u001b[32mLINKING\u001b[0m executable ./special LDFLAGS are:    -pthread\n",
            "Successfully created x86_64/special\n"
          ]
        }
      ],
      "source": [
        "!nrnivmodl CompModNervSys-LIFneuron/mechanisms # compiles additional membrane mechanism file (mod file) for LIF neuron"
      ]
    },
    {
      "cell_type": "markdown",
      "metadata": {
        "id": "UiW9h6jCh9kv"
      },
      "source": [
        "# Recapping basics of scripting in NEURON\n",
        "\n",
        "Below, we'll review the basic steps shown in the NEURON Python tutorial (Adapted from https://neuron.yale.edu/neuron/docs/scripting-neuron-basics)"
      ]
    },
    {
      "cell_type": "code",
      "execution_count": 4,
      "metadata": {
        "id": "YDl7ZHCGh9kv"
      },
      "outputs": [],
      "source": [
        "from neuron import h # all NEURON hoc functions are accessed through h\n",
        "from neuron import gui # if you're running this notebook in a local environment (instead of on google colab), launches the GUI\n",
        "h.load_file('stdrun.hoc') # loads neuron standard hoc library, not always necessary \n",
        "import matplotlib.pyplot as plt\n",
        "import numpy as np\n",
        "\n"
      ]
    },
    {
      "cell_type": "markdown",
      "metadata": {
        "id": "7y9lEDvch9kw"
      },
      "source": [
        "## Step 1: Create a cell"
      ]
    },
    {
      "cell_type": "code",
      "execution_count": 5,
      "metadata": {
        "id": "LRooloevh9kw"
      },
      "outputs": [],
      "source": [
        "# Create a single section we'll call 'soma'\n",
        "soma = h.Section(name='soma') "
      ]
    },
    {
      "cell_type": "markdown",
      "metadata": {
        "id": "orfHmcS1h9kx"
      },
      "source": [
        "When we start to build neuron models with more than one section, a useful function is `h.topology()`, which displays the topological (tree-like) structure of all the sections we created in the model. This tells you how the *sections* are connected to each other and how many *segments* each section has. For our single section model, it's fairly simple, but you can use it to see what you've created so far.  "
      ]
    },
    {
      "cell_type": "code",
      "execution_count": 6,
      "metadata": {
        "id": "iJFWzImoh9kx",
        "outputId": "6ee04da2-ffdf-4442-ac7c-c65a8e17ea6c",
        "colab": {
          "base_uri": "https://localhost:8080/"
        }
      },
      "outputs": [
        {
          "output_type": "stream",
          "name": "stdout",
          "text": [
            "\n",
            "|-|       soma(0-1)\n",
            "\n"
          ]
        },
        {
          "output_type": "execute_result",
          "data": {
            "text/plain": [
              "1.0"
            ]
          },
          "metadata": {},
          "execution_count": 6
        }
      ],
      "source": [
        "h.topology()"
      ]
    },
    {
      "cell_type": "markdown",
      "metadata": {
        "id": "1KNgYD1Kh9kx"
      },
      "source": [
        "A useful `method` (a function that can be called on an object) that exists for each NEURON section is the `psection` method. It returns a Python dictionary displaying the properties of a section."
      ]
    },
    {
      "cell_type": "code",
      "execution_count": 7,
      "metadata": {
        "id": "50bnOAIIh9kx",
        "outputId": "67981504-0879-4e29-da86-75a80bbeca31",
        "colab": {
          "base_uri": "https://localhost:8080/"
        }
      },
      "outputs": [
        {
          "output_type": "execute_result",
          "data": {
            "text/plain": [
              "{'point_processes': {},\n",
              " 'density_mechs': {},\n",
              " 'ions': {},\n",
              " 'morphology': {'L': 100.0,\n",
              "  'diam': [500.0],\n",
              "  'pts3d': [],\n",
              "  'parent': None,\n",
              "  'trueparent': None},\n",
              " 'nseg': 1,\n",
              " 'Ra': 35.4,\n",
              " 'cm': [1.0],\n",
              " 'regions': set(),\n",
              " 'species': set(),\n",
              " 'name': 'soma',\n",
              " 'hoc_internal_name': '__nrnsec_0x2bdeda0',\n",
              " 'cell': None}"
            ]
          },
          "metadata": {},
          "execution_count": 7
        }
      ],
      "source": [
        "soma.psection()"
      ]
    },
    {
      "cell_type": "markdown",
      "metadata": {
        "id": "85dY7JO7h9ky"
      },
      "source": [
        "If you wanted to access, for example, the length of this section, you could use the `'morphology'` key and grab the value of `L`:"
      ]
    },
    {
      "cell_type": "code",
      "execution_count": 8,
      "metadata": {
        "id": "YD0ObbSPh9ky",
        "outputId": "b3e8f983-93eb-40a5-c6f0-87d910f0bf44",
        "colab": {
          "base_uri": "https://localhost:8080/"
        }
      },
      "outputs": [
        {
          "output_type": "stream",
          "name": "stdout",
          "text": [
            "L = 100.0\n"
          ]
        }
      ],
      "source": [
        "print('L = {}'.format(soma.psection()['morphology']['L']))"
      ]
    },
    {
      "cell_type": "markdown",
      "metadata": {
        "id": "3IycqcTgh9ky"
      },
      "source": [
        "<span style=\"color:red\"> <b><i>Q2</b></i>: By inspecting the output of psection, what are the default values NEURON assigned to length, diameter, and cm? The default units for all these quantities can be found <a href=\"https://www.neuron.yale.edu/neuron/static/docs/units/unitchart.html \">here</a> </span>"
      ]
    },
    {
      "cell_type": "markdown",
      "metadata": {
        "id": "WPqthDUmh9ky"
      },
      "source": [
        "It's usually more efficient to grab some of these values directly, e.g., you can access a section and set it's value directly using dot notation:"
      ]
    },
    {
      "cell_type": "code",
      "execution_count": 9,
      "metadata": {
        "id": "0j9k0JoPh9ky",
        "outputId": "e91f2b04-b919-40bb-e3c7-39fc8614a182",
        "colab": {
          "base_uri": "https://localhost:8080/"
        }
      },
      "outputs": [
        {
          "output_type": "execute_result",
          "data": {
            "text/plain": [
              "100.0"
            ]
          },
          "metadata": {},
          "execution_count": 9
        }
      ],
      "source": [
        "soma.L"
      ]
    },
    {
      "cell_type": "markdown",
      "metadata": {
        "id": "svPK4e-jh9ky"
      },
      "source": [
        "## Step 2: Set the cell's morphological (geometrical) properties\n",
        "\n",
        "Set the soma's diameter (`diam`) and length (`L`) to $20 \\mu m$. Use `psection` to check that the values have been updated. "
      ]
    },
    {
      "cell_type": "code",
      "execution_count": 10,
      "metadata": {
        "id": "P08D6de9h9kz"
      },
      "outputs": [],
      "source": [
        "# Your code goes here\n",
        "soma.diam = 20\n",
        "soma.L = 20\n",
        "soma.psection()"
      ]
    },
    {
      "cell_type": "markdown",
      "metadata": {
        "id": "Sxs3WWqQh9kz"
      },
      "source": [
        "We'll also specify that this section has a single segment using `nseg`"
      ]
    },
    {
      "cell_type": "code",
      "execution_count": 11,
      "metadata": {
        "id": "McH3JBx3h9kz"
      },
      "outputs": [],
      "source": [
        "soma.nseg = 1"
      ]
    },
    {
      "cell_type": "markdown",
      "metadata": {
        "id": "xL-dGQM0h9kz"
      },
      "source": [
        "You can also probe objects with Python's built in `dir()` function, e.g. for the soma:"
      ]
    },
    {
      "cell_type": "code",
      "execution_count": 12,
      "metadata": {
        "id": "LRTxAsVRh9kz",
        "outputId": "c9ae6b1b-000b-4fb9-dafd-89d54960acae",
        "colab": {
          "base_uri": "https://localhost:8080/"
        }
      },
      "outputs": [
        {
          "output_type": "execute_result",
          "data": {
            "text/plain": [
              "['L',\n",
              " 'Ra',\n",
              " '__call__',\n",
              " '__class__',\n",
              " '__contains__',\n",
              " '__delattr__',\n",
              " '__dir__',\n",
              " '__doc__',\n",
              " '__eq__',\n",
              " '__format__',\n",
              " '__ge__',\n",
              " '__getattribute__',\n",
              " '__gt__',\n",
              " '__hash__',\n",
              " '__init__',\n",
              " '__init_subclass__',\n",
              " '__iter__',\n",
              " '__le__',\n",
              " '__lt__',\n",
              " '__module__',\n",
              " '__ne__',\n",
              " '__new__',\n",
              " '__reduce__',\n",
              " '__reduce_ex__',\n",
              " '__repr__',\n",
              " '__setattr__',\n",
              " '__sizeof__',\n",
              " '__str__',\n",
              " '__subclasshook__',\n",
              " 'allseg',\n",
              " 'arc3d',\n",
              " 'cell',\n",
              " 'children',\n",
              " 'connect',\n",
              " 'diam3d',\n",
              " 'disconnect',\n",
              " 'has_membrane',\n",
              " 'hname',\n",
              " 'hoc_internal_name',\n",
              " 'insert',\n",
              " 'is_pysec',\n",
              " 'n3d',\n",
              " 'name',\n",
              " 'nseg',\n",
              " 'orientation',\n",
              " 'parentseg',\n",
              " 'psection',\n",
              " 'pt3dadd',\n",
              " 'pt3dchange',\n",
              " 'pt3dclear',\n",
              " 'pt3dinsert',\n",
              " 'pt3dremove',\n",
              " 'pt3dstyle',\n",
              " 'push',\n",
              " 'rallbranch',\n",
              " 'same',\n",
              " 'spine3d',\n",
              " 'subtree',\n",
              " 'trueparentseg',\n",
              " 'uninsert',\n",
              " 'wholetree',\n",
              " 'x3d',\n",
              " 'y3d',\n",
              " 'z3d']"
            ]
          },
          "metadata": {},
          "execution_count": 12
        }
      ],
      "source": [
        "dir(soma)"
      ]
    },
    {
      "cell_type": "markdown",
      "metadata": {
        "id": "D0LJVLc5h9kz"
      },
      "source": [
        "You can also do this to see all the functions, variables, etc. available in NEURON's `h` submodule, which allows us to access NEURON's `hoc` interpreter (basically like the backend). We'll use `textwrap` as in the NEURON Python tutorial to make the display a little cleaner"
      ]
    },
    {
      "cell_type": "code",
      "execution_count": 13,
      "metadata": {
        "id": "qRKlUoQGh9kz",
        "outputId": "898fac1f-ad18-4441-f763-22074c9c6fdf",
        "colab": {
          "base_uri": "https://localhost:8080/"
        }
      },
      "outputs": [
        {
          "output_type": "stream",
          "name": "stdout",
          "text": [
            "APCount, AlphaSynapse, AtolTool, AtolToolItem, Avogadro_constant,\n",
            "BBSaveState, CVode, DEG, Deck, E, ExecCommand, Exp2Syn, ExpSyn,\n",
            "FARADAY, FInitializeHandler, Family, File, GAMMA, GUIMath, Glyph,\n",
            "Graph, HBox, IClamp, Impedance, Inserter, IntFire1, IntFire2,\n",
            "IntFire4, KSChan, KSGate, KSState, KSTrans, L, LinearMechanism, List,\n",
            "Matrix, MechanismStandard, MechanismType, MenuExplore, NEURONMainMenu,\n",
            "NetCon, NetStim, NumericalMethodPanel, OClamp, PHI, PI, PPShape,\n",
            "PWManager, ParallelContext, PatternStim, Plot, PlotShape,\n",
            "PointBrowser, PointProcessLocator, PointProcessManager,\n",
            "PointProcessMark, Pointer, PtrVector, PythonObject, R, Ra, Random,\n",
            "RangeVarPlot, SEClamp, SaveState, Section, SectionBrowser,\n",
            "SectionList, SectionRef, Shape, ShapeBrowser, ShapeLocation,\n",
            "SingleChan, SpikeOut, StateTransitionEvent, String, StringFunctions,\n",
            "SymChooser, TQueue, TextEditor, Timer, VBox, VClamp, ValueFieldEditor,\n",
            "Vector, WindowGroup, WindowGroupItem, WindowGroupManager, WindowMenu,\n",
            "__abs__, __add__, __bool__, __call__, __class__, __delattr__,\n",
            "__delitem__, __dir__, __doc__, __eq__, __format__, __ge__,\n",
            "__getattribute__, __getitem__, __gt__, __hash__, __init__,\n",
            "__init_subclass__, __iter__, __le__, __len__, __lt__, __module__,\n",
            "__mul__, __ne__, __neg__, __new__, __next__, __pos__, __radd__,\n",
            "__reduce__, __reduce_ex__, __repr__, __rmul__, __rsub__, __rtruediv__,\n",
            "__setattr__, __setitem__, __setstate__, __sizeof__, __str__, __sub__,\n",
            "__subclasshook__, __truediv__, _pysec, abs, access, addplot, advance,\n",
            "allobjects, allobjectvars, allsec, arc3d, area, argtype, atan, atan2,\n",
            "attr_praxis, axis, baseattr, batch_run, batch_save, begintemplate,\n",
            "boolean_dialog, break, buildmenu, capacitance, cas, case,\n",
            "cbimportmenu, celsius, celsius_panel, channel_builder, chdir,\n",
            "checkpoint, clamp_resist, classname, clipboard_file, clipboard_get,\n",
            "clipboard_retrieve, clipboard_save, clipboard_set, cm, cnt, connect,\n",
            "continue, continue_dialog, continuerun, coredump_on_error,\n",
            "coreneuronrunning_, cos, create, cvode, cvode_active, cvode_local,\n",
            "cvode_simgraph, debug, default_dll_loaded_, define_shape, delete,\n",
            "delete_section, depvar, diam, diam3d, diam_changed, dik_dv_, dina_dv_,\n",
            "disconnect, distance, distmechmenu, distmechviewers, doEvents,\n",
            "doNotify, double, dt, e_extracellular, e_fastpas, e_pas, ek, el_hh,\n",
            "else, ena, endtemplate, eps_IntFire4, eqinit, eqn, erf, erfc,\n",
            "eventcount, eventslow, execerror, execute, execute1, exp, external,\n",
            "extracellular, fadvance, fast_flush_list, fastflushPlot, fastpas,\n",
            "fclamp, fclampi, fclampv, fcurrent, finitialize, fit_praxis,\n",
            "fittingmenu, float_epsilon, flushPlot, flush_list, fmatrix, fmenu,\n",
            "for, forall, forsec, fprint, frecord_init, fscan, fstim, fstimi, fsyn,\n",
            "fsyng, fsyni, func, g_fastpas, g_pas, getSpineArea, getcwd, getstr,\n",
            "ghk, gk_hh, gkbar_hh, gl_hh, global_ra, globalra_panel, gna_hh,\n",
            "gnabar_hh, graph, graphItem, graphList, graph_menu_remove_most,\n",
            "graphmenu, graphmode, grefrac_SpikeOut, h_hh, help, helpmenu, hh,\n",
            "hinf_hh, hname, hoc_ac_, hoc_cross_x_, hoc_cross_y_, hoc_obj_,\n",
            "hoc_pointer_, hoc_sf_, hoc_stdout, hocobjptr, htau_hh, i, i_cap,\n",
            "i_membrane, i_membrane_, i_pas, ib_IntFire4, if, ifsec, ik, il_hh,\n",
            "impedancemenu, ina, init, initPlot, initnrn, insert,\n",
            "install_vector_fitness, int, ion_charge, ion_register, ion_style,\n",
            "ismembrane, issection, iterator, iterator_statement, itmp, ivoc_style,\n",
            "j, k_ion, keep_nseg_parm, ki, ki0_k_ion, ko, ko0_k_ion, lambda_f,\n",
            "libpython_path, load_file, load_func, load_proc, load_template, local,\n",
            "localobj, log, log10, lw, m_hh, machine_name, makeFamily,\n",
            "makeMenuExplore, makePointBrowser, make_mechanism, make_pointprocess,\n",
            "makeinserter, makeppm, mapped_nrnmainmenu_, mcell_ran4,\n",
            "mcell_ran4_init, minf_hh, miscellaneousmenu, morphology,\n",
            "movie_frame_dur_, movie_timer, movierun, movierunbox, movierunpanel,\n",
            "movierunsave, moviestep, mtau_hh, n3d, n_graph_lists, n_hh, na_ion,\n",
            "nai, nai0_na_ion, name_declared, nao, nao0_na_ion, nernst, neuronhome,\n",
            "new, newPlot, newPlotI, newPlotS, newPlotV, newcommand, newphaseplane,\n",
            "newshapeplot, newvectorplot, ninf_hh, nlayer_extracellular, node_data,\n",
            "nrn_feenableexcept, nrn_load_dll, nrn_mallinfo,\n",
            "nrn_netrec_state_adjust, nrn_shape_changed_, nrn_sparse_partrans,\n",
            "nrnallpointmenu, nrnallsectionmenu, nrncontrolmenu, nrnglobalmechmenu,\n",
            "nrniv_bind_thread, nrnmainmenu, nrnmainmenu_, nrnmechmenu,\n",
            "nrnmpi_init, nrnpointmenu, nrnpython, nrnsecmenu, nrnunit_use_legacy,\n",
            "nrnversion, nseg, nstep_steprun, ntau_hh, numarg,\n",
            "numericalmethodpanel, obfunc, object_id, object_index, object_pop,\n",
            "object_push, object_pushed, objectvar, objref, parallel,\n",
            "parent_connection, parent_node, parent_section, pas, plot, plotx,\n",
            "ploty, plt, pointmenu, pointprocessesmenu, pop_section, print,\n",
            "print_session, printf, prjnrn, prmat, proc, prstim, psection, pt3dadd,\n",
            "pt3dchange, pt3dclear, pt3dconst, pt3dinsert, pt3dremove, pt3dstyle,\n",
            "public, push_section, pval_praxis, pwman_place, pyobj, quit,\n",
            "rallbranch, rates_hh, read, realtime, ref, refrac_SpikeOut, regraph,\n",
            "retrieveaudit, return, ri, ropen, rtstart, run, runStopAt, runStopIn,\n",
            "runbutton, running_, same, save_session, saveaudit, screen_update,\n",
            "screen_update_invl, secname, secondorder, section_exists,\n",
            "section_orientation, section_owner, sectionname, setSpineArea, set_ra,\n",
            "set_v_init, setcolor, setdata_feature, setdata_hh, setdata_pas, setdt,\n",
            "setpointer, show_errmess_always, show_winio, sin, solve, spine3d,\n",
            "sprint, sqrt, sred, sscanf, startsw, stdinit, stdrun_quiet, step,\n",
            "steprun, steps_per_ms, stop, stop_praxis, stoppedrun, stoprun, stopsw,\n",
            "strcmp, strdef, string_dialog, symbols, system, t, tanh,\n",
            "taueps_IntFire4, temp_string2_, temp_string_, tempobj, tempobj2,\n",
            "tempstr1, tempstr2, this_node, this_section, thresh_SpikeOut, tobj,\n",
            "tobj1, toolmenu, topology, tstop, tstop_changed, tstr, uninsert,\n",
            "units, unix_mac_pc, use_mcell_ran4, using_cvode_, v, v_init,\n",
            "valid_name_syntax, variable_domain, vectormenu, vext,\n",
            "vrefrac_SpikeOut, vtrap_hh, while, windowmenu, wopen, x3d, xbutton,\n",
            "xc, xcheckbox, xfixedvalue, xg, xlabel, xmenu, xopen,\n",
            "xopen_broadcast_, xpanel, xpvalue, xradiobutton, xraxial, xred,\n",
            "xslider, xstatebutton, xvalue, xvarlabel, y3d, z3d\n"
          ]
        }
      ],
      "source": [
        "import textwrap\n",
        "print(textwrap.fill(', '.join(dir(h))))"
      ]
    },
    {
      "cell_type": "markdown",
      "metadata": {
        "id": "zO8NqvZlh9kz"
      },
      "source": [
        "From the tutorial: \"(The <tt>', '.join(...)</tt> tells Python to build a string out of the list returned by <tt>dir</tt> where the items are separated from each other with a comma and a space. The <tt>textwrap.fill(...)</tt> tells Python to split long lines into multiple lines, by default a maximum of 70 characters long.)\""
      ]
    },
    {
      "cell_type": "markdown",
      "metadata": {
        "id": "9XEZxwpBh9k0"
      },
      "source": [
        "Getting help:\n",
        "\n",
        "You can also get help from the documentation (docstrings) using the `help()` function or prefacing the method/function with a question mark:"
      ]
    },
    {
      "cell_type": "code",
      "execution_count": 14,
      "metadata": {
        "id": "_PPhc2__h9k0",
        "outputId": "3984ecb0-f3e5-414d-9e1f-3ef4d522dcdb",
        "colab": {
          "base_uri": "https://localhost:8080/"
        }
      },
      "outputs": [
        {
          "output_type": "stream",
          "name": "stdout",
          "text": [
            "Help on built-in function insert:\n",
            "\n",
            "insert(...) method of nrn.Section instance\n",
            "    section.insert(densityMechanismName) e.g. soma.insert('hh')\n",
            "\n"
          ]
        }
      ],
      "source": [
        "help(soma.insert)"
      ]
    },
    {
      "cell_type": "markdown",
      "metadata": {
        "id": "0mIuqD7Yh9k0"
      },
      "source": [
        "## Step 3: Add membrane mechanisms\n",
        "\n",
        "Right now our section just a membrane capacitance with no resistance/conductance, so it looks like the circuit below"
      ]
    },
    {
      "cell_type": "code",
      "execution_count": 15,
      "metadata": {
        "id": "wuC6CMkUh9k0",
        "outputId": "7b254fc4-c69b-446e-f627-0a66235b6c76",
        "colab": {
          "base_uri": "https://localhost:8080/",
          "height": 294
        }
      },
      "outputs": [
        {
          "output_type": "execute_result",
          "data": {
            "image/png": "[encoded data removed]",
            "text/plain": [
              "<IPython.core.display.Image object>"
            ]
          },
          "metadata": {
            "image/png": {
              "width": 250
            }
          },
          "execution_count": 15
        }
      ],
      "source": [
        "from IPython.display import Image\n",
        "\n",
        "Image('CompModNervSys-LIFneuron/resources/NEURON_circuit_cm.png',width=250)"
      ]
    },
    {
      "cell_type": "markdown",
      "metadata": {
        "id": "ctVJMYpzh9k0"
      },
      "source": [
        "To start adding *parallel* membrane conductances, we can use a section's `insert` method. We use this to insert *density* mechanisms, which are membrane mechanisms that allow us to distribute a conductance across a section and specify it's density in terms of conductance per unit area (or current per unit area). \n",
        "\n",
        "There are a few built in density mechanisms listed in the [scripting NEURON basics tutorial](https://neuron.yale.edu/neuron/docs/scripting-neuron-basics), shown again below here:\n",
        "\n",
        "<table border=\"1\" class=\"docutils\">\n",
        "<colgroup>\n",
        "<col width=\"26%\" />\n",
        "<col width=\"74%\"  />\n",
        "</colgroup>\n",
        "<tbody valign=\"top\">\n",
        "<tr class=\"row-odd\"><td><tt>pas</tt></td>\n",
        "<td>Passive (“leak”) channel.</td>\n",
        "</tr>\n",
        "<tr class=\"row-even\"><td><tt>extracellular</tt></td>\n",
        "<td>For simulating effects of nonzero extracellular\n",
        "potential, as may happen with leaky patch clamps,\n",
        "or detailed propertes of the myelin sheath.</td>\n",
        "</tr>\n",
        "<tr class=\"row-odd\"><td><tt>hh</tt></td>\n",
        "<td>Hodgkin-Huxley sodium, potassium, and leakage channels.</td>\n",
        "</tr>\n",
        "</tbody>\n",
        "</table>"
      ]
    },
    {
      "cell_type": "markdown",
      "metadata": {
        "id": "0qyg0bGhh9k0"
      },
      "source": [
        "Thousands of additional mechanisms are available as part of published model codes on <a href=\"http://modeldb.yale.edu\">ModelDB</a>. \n",
        "\n",
        "Eventually we'll use these to model voltage-gated ion channel conductances, but for now we'll start with just a passive \"leak\" channel, giving us our leaky integrator from last class. The passive channel mechanism is called `pas`:"
      ]
    },
    {
      "cell_type": "code",
      "execution_count": 16,
      "metadata": {
        "id": "MytNOw7xh9k1",
        "outputId": "317323b6-6a0f-4c19-e68a-41e888193fc6",
        "colab": {
          "base_uri": "https://localhost:8080/"
        }
      },
      "outputs": [
        {
          "output_type": "execute_result",
          "data": {
            "text/plain": [
              "soma"
            ]
          },
          "metadata": {},
          "execution_count": 16
        }
      ],
      "source": [
        "soma.insert('pas')"
      ]
    },
    {
      "cell_type": "markdown",
      "metadata": {
        "id": "hlSsEVXoh9k1"
      },
      "source": [
        "Using `psection` we can see what parameters this mechanism has. You'll see it's in the `'density_mechs'` dictionary for density mechanisms under `pas`"
      ]
    },
    {
      "cell_type": "code",
      "execution_count": 17,
      "metadata": {
        "id": "Y0zc8q-ph9k1",
        "outputId": "d41adbac-8886-4273-a881-fc457a97c5e0",
        "colab": {
          "base_uri": "https://localhost:8080/"
        }
      },
      "outputs": [
        {
          "output_type": "execute_result",
          "data": {
            "text/plain": [
              "{'g': [0.001], 'e': [-70.0], 'i': [0.0]}"
            ]
          },
          "metadata": {},
          "execution_count": 17
        }
      ],
      "source": [
        "soma.psection()\n",
        "\n",
        "soma.psection()['density_mechs']['pas']\n"
      ]
    },
    {
      "cell_type": "markdown",
      "metadata": {
        "id": "k_Hd6WHah9k1"
      },
      "source": [
        "You can see there are three parameters (keys in the dictionary): `g`, `e`, and `i`. The two parameters we can actually set are `g` and `e`, which are the conductance `g` (in $S/cm^2$) and reversal potential `e` (in $mV$) of this leak channel. `i` is just a variable displaying the current at this moment through this density mechanism, so we can't set it, but we could use it to record the current through this conductance if we wanted. "
      ]
    },
    {
      "cell_type": "markdown",
      "metadata": {
        "id": "gSt8vHZ9h9k1"
      },
      "source": [
        "But first...a note about assigning variables to a section: \n",
        "\n",
        "NEURON treats each section as a cable, meaning it allows axial current flow along the cable and through the membrane. Sections are divied into equal size *segments* by setting the `nseg` parameter. You can then access variables like the voltage or passive conductance at any point along your section using the normalized position `x` along the section, which varies from 0 to 1. Remember, this is a numerical model so the values are only actually being solved for at the segment locations, but NEURON linearly interpolates values like voltage between the segment centers within each section. In general, `nseg` should be an odd number, which means accessing (0.5) always gives the value at the middle of the section.\n",
        "\n",
        "We haven't discussed cable theory yet, so for now we'll stick to a single compartment model by setting `nseg=1`, which means the axial current flow can be ignored and the model behaves like a point neuron. \n",
        "\n",
        "To summarize, we access sections by their name and segments by some location on the section.\n",
        "\n",
        "* Section: ``section``\n",
        "* Segment: ``section(loc)``"
      ]
    },
    {
      "cell_type": "markdown",
      "metadata": {
        "id": "vqilXJNph9k1"
      },
      "source": [
        "Using the Python `type` function can tell us what a variable is:"
      ]
    },
    {
      "cell_type": "code",
      "execution_count": 18,
      "metadata": {
        "id": "G_Ug1_SZh9k1",
        "outputId": "d7961416-3322-4fd7-9616-196d06c1cfbe",
        "colab": {
          "base_uri": "https://localhost:8080/"
        }
      },
      "outputs": [
        {
          "output_type": "stream",
          "name": "stdout",
          "text": [
            "type(soma) = <class 'nrn.Section'>\n",
            "type(soma(0.5)) = <class 'nrn.Segment'>\n"
          ]
        }
      ],
      "source": [
        "print(\"type(soma) = {}\".format(type(soma)))\n",
        "print(\"type(soma(0.5)) = {}\".format(type(soma(0.5))))"
      ]
    },
    {
      "cell_type": "markdown",
      "metadata": {
        "id": "qlz2nETvh9k2"
      },
      "source": [
        "Segment variables follow the idiom:\n",
        "\n",
        "    section(loc).var\n",
        "\n",
        "And for mechanisms on the segment:\n",
        "\n",
        "    section(loc).mech.var\n",
        "\n",
        "or\n",
        "\n",
        "    section(loc).var_mech\n",
        "\n",
        "The first form is preferred."
      ]
    },
    {
      "cell_type": "markdown",
      "metadata": {
        "id": "iLLg4Vn_h9k2"
      },
      "source": [
        "Okay now that we got through all that, use the passive leak channel to model a neuron with a specific membrane resistance $R_{m} = 33 k \\Omega/cm^{2}$, reversal potential $E_{rev}=-65 mV$ and specific membrane capacitance $c_{m} = 1 \\mu F/cm^{2}$. Remember the relationshib between *resistance* and *conductance*. And if you want to use the last idiom (`var_mech`), the mechanism in this case is `pas`."
      ]
    },
    {
      "cell_type": "code",
      "execution_count": 29,
      "metadata": {
        "id": "LnRj2-qZh9k2"
      },
      "outputs": [],
      "source": [
        "# Your code goes here\n",
        "soma.cm = 1\n",
        "soma(0.5).pas.g = 1/33000\n",
        "soma(0.5).pas.e = -65\n"
      ]
    },
    {
      "cell_type": "markdown",
      "metadata": {
        "id": "ziZOLbgMh9k2"
      },
      "source": [
        "Another useful variable we can now access is the `area` parameter, which tells us the surface area of a segment within our section. We already set the length `L` and diameter `diam` above, so now let's see what surface area that gave us. NEURON outputs the area in $\\mu m^{2}$"
      ]
    },
    {
      "cell_type": "code",
      "execution_count": 30,
      "metadata": {
        "id": "8N3ll-JFh9k2",
        "outputId": "8f353e8c-0d5e-4a09-fe4f-78d7ff6d7c17",
        "colab": {
          "base_uri": "https://localhost:8080/"
        }
      },
      "outputs": [
        {
          "output_type": "execute_result",
          "data": {
            "text/plain": [
              "157079.63267948964"
            ]
          },
          "metadata": {},
          "execution_count": 30
        }
      ],
      "source": [
        "soma(0.5).area()"
      ]
    },
    {
      "cell_type": "markdown",
      "metadata": {
        "id": "4icXiIfih9k2"
      },
      "source": [
        "## Step 4: Insert a stimulus\n",
        "\n",
        "We can add a current injection (also known as a current *clamp* because it clamps the current to the value we decide. This is done with the `IClamp` object, which is a `hoc` object, so we have to access through the `h` submodule. `IClamp` just requires us to specify the *segment* in which we want to insert it. This is a type of *Point Process*, which are just point sources of current. To insert it to the middle segment (our only segment in this case) of the soma, we use:"
      ]
    },
    {
      "cell_type": "code",
      "execution_count": 31,
      "metadata": {
        "id": "1rNaPayeh9k2"
      },
      "outputs": [],
      "source": [
        "iclamp = h.IClamp(soma(0.5))"
      ]
    },
    {
      "cell_type": "markdown",
      "metadata": {
        "id": "5D7myOVth9k2"
      },
      "source": [
        "Below we'll use `dir` to look at the methods and parameters built into `IClamp`"
      ]
    },
    {
      "cell_type": "code",
      "execution_count": 32,
      "metadata": {
        "id": "wTRPRXINh9k3",
        "outputId": "80a9135c-2119-446b-8595-65cc14d5cc3f",
        "colab": {
          "base_uri": "https://localhost:8080/"
        }
      },
      "outputs": [
        {
          "output_type": "stream",
          "name": "stdout",
          "text": [
            "['amp', 'baseattr', 'delay', 'dur', 'get_loc', 'get_segment', 'has_loc', 'hname', 'hocobjptr', 'i', 'loc', 'same']\n"
          ]
        }
      ],
      "source": [
        "print([item for item in dir(iclamp) if not item.startswith('__')])"
      ]
    },
    {
      "cell_type": "markdown",
      "metadata": {
        "id": "Q8qa5DLfh9k3"
      },
      "source": [
        "The three main properties we'll want to set should be familiar from last exercise: \n",
        "\n",
        "`amp` - the amplitude in $nA$\n",
        "\n",
        "`delay` - the time the current stimulus turns in $ms$\n",
        "\n",
        "`dur` - the duration the current stimulus is held at `amp` (stays on) in $ms$\n",
        "\n",
        "Below, set the delay to $5 \\; ms$, the duration to $20 \\; ms$, and the amplitude to $50 \\; pA$"
      ]
    },
    {
      "cell_type": "code",
      "execution_count": 33,
      "metadata": {
        "id": "9Ker_lwch9k3"
      },
      "outputs": [],
      "source": [
        "iclamp.delay = 5\n",
        "iclamp.dur = 20\n",
        "iclamp.amp = 0.05"
      ]
    },
    {
      "cell_type": "markdown",
      "metadata": {
        "id": "GvmrvnYdh9k3"
      },
      "source": [
        "Another useful method is the `get_segment()` method, which outputs the segment the current clamp is inserted to. Try using it below:"
      ]
    },
    {
      "cell_type": "code",
      "execution_count": 34,
      "metadata": {
        "id": "nWm95RBEh9k3",
        "outputId": "1833c64a-d160-4014-833e-cb22327a98d2",
        "colab": {
          "base_uri": "https://localhost:8080/"
        }
      },
      "outputs": [
        {
          "output_type": "execute_result",
          "data": {
            "text/plain": [
              "soma(0.5)"
            ]
          },
          "metadata": {},
          "execution_count": 34
        }
      ],
      "source": [
        "iclamp.get_segment()"
      ]
    },
    {
      "cell_type": "markdown",
      "metadata": {
        "id": "zy-qTaEDh9k3"
      },
      "source": [
        "Now when we use `psection` we can see the `IClamp` has been added to the model in the `point_processes` dictionary. Use it below to check"
      ]
    },
    {
      "cell_type": "code",
      "execution_count": 35,
      "metadata": {
        "id": "HKUAJIU6h9k3",
        "outputId": "b09beb9e-2729-43c8-f0dc-0a550438288f",
        "colab": {
          "base_uri": "https://localhost:8080/"
        }
      },
      "outputs": [
        {
          "output_type": "execute_result",
          "data": {
            "text/plain": [
              "{'point_processes': {'IClamp': {IClamp[0], IClamp[1]}},\n",
              " 'density_mechs': {'pas': {'g': [3.0303030303030302e-05],\n",
              "   'e': [-65.0],\n",
              "   'i': [0.0]}},\n",
              " 'ions': {},\n",
              " 'morphology': {'L': 100.0,\n",
              "  'diam': [500.0],\n",
              "  'pts3d': [],\n",
              "  'parent': None,\n",
              "  'trueparent': None},\n",
              " 'nseg': 1,\n",
              " 'Ra': 35.4,\n",
              " 'cm': [1.0],\n",
              " 'regions': set(),\n",
              " 'species': set(),\n",
              " 'name': 'soma',\n",
              " 'hoc_internal_name': '__nrnsec_0x2bdeda0',\n",
              " 'cell': None}"
            ]
          },
          "metadata": {},
          "execution_count": 35
        }
      ],
      "source": [
        "soma.psection()"
      ]
    },
    {
      "cell_type": "markdown",
      "metadata": {
        "id": "pXxwwCzsh9k3"
      },
      "source": [
        "## Step 5: Add recording variables\n",
        "\n",
        "Now we could run a simulation but we wouldn't be able to see our output unless we were using NEURON's GUI to visualize the results. Even then, we wouldn't be able to use our simulation results to do any analysis. We can record variables during a simulation using NEURON's `Vector` class (`h.Vector`), which has a useful method called `record`. This class can be tricky to use. To specify a variable to record, we actually have to prefix it's name with `_ref_`. So to record the membrane potential at the soma `soma(0.5).v` and corresponding time points, which is always stored in a hoc variable `h.t` we use:"
      ]
    },
    {
      "cell_type": "code",
      "execution_count": 36,
      "metadata": {
        "id": "yGvaqDJHh9k3",
        "outputId": "4ea7be52-dcd9-4057-9c9e-f9ea3acfd0fb",
        "colab": {
          "base_uri": "https://localhost:8080/"
        }
      },
      "outputs": [
        {
          "output_type": "execute_result",
          "data": {
            "text/plain": [
              "Vector[6]"
            ]
          },
          "metadata": {},
          "execution_count": 36
        }
      ],
      "source": [
        "v = h.Vector() # create an empty vector to store voltage (mV)\n",
        "t = h.Vector() # create an empty vector to store time (ms)\n",
        "v.record(soma(0.5)._ref_v)\n",
        "t.record(h._ref_t)"
      ]
    },
    {
      "cell_type": "markdown",
      "metadata": {
        "id": "zsGV6CVFh9k4"
      },
      "source": [
        "Try writing similar code to record the current delivered by our `IClamp`, which we saved to the python variable `iclamp`, below and save it in a vectort called `i_stim`."
      ]
    },
    {
      "cell_type": "code",
      "execution_count": 37,
      "metadata": {
        "id": "ZDduZuNZh9k4",
        "outputId": "e2502e43-15f6-4680-a684-6f5db9300502",
        "colab": {
          "base_uri": "https://localhost:8080/"
        }
      },
      "outputs": [
        {
          "output_type": "execute_result",
          "data": {
            "text/plain": [
              "Vector[7]"
            ]
          },
          "metadata": {},
          "execution_count": 37
        }
      ],
      "source": [
        "# Your code goes here\n",
        "i_stim = h.Vector()\n",
        "i_stim.record(iclamp._ref_i)"
      ]
    },
    {
      "cell_type": "markdown",
      "metadata": {
        "id": "gZf8WQQQh9k4"
      },
      "source": [
        "## Step 6: Run the simulation\n",
        "\n",
        "Now we're almost ready to run. We just need to specify our initialization condition (initial voltage), simulation time step, and duration. By default, NEURON will integrate the differential equation describing our system using a different form of the Euler method we discussed called *Backward euler*, which is a more stable and accurate version. There are more advanced integration methods available (Crank-nicholson and variable time step methods), but this should be sufficient for our purposes. \n",
        "\n",
        "Let's use an initial voltage, set by `h.v_init` to our reversal potential, simulation duration, set by `h.tstop` to $20\\; ms$, and time step, step by `h.dt` to $0.1\\; ms$.  "
      ]
    },
    {
      "cell_type": "code",
      "execution_count": 38,
      "metadata": {
        "id": "lfZUUwU7h9k4"
      },
      "outputs": [],
      "source": [
        "# Set simulation parameters\n",
        "h.v_init = soma(0.5).pas.e # Your code goes here\n",
        "h.tstop = 60 # Your code goes here\n",
        "h.dt = .1 # Your code goes here"
      ]
    },
    {
      "cell_type": "markdown",
      "metadata": {
        "id": "M8d5egg4h9k4"
      },
      "source": [
        "Okay, now we're finally ready to go. To run the simulation, we can use the `h.run()` NEURON function. The code cell below both runs the model and plots it using `matplotlib`, wrapped in a function called `run_and_plot_sim()`"
      ]
    },
    {
      "cell_type": "code",
      "execution_count": 39,
      "metadata": {
        "id": "jKZFje5Gh9k4",
        "outputId": "e13509b1-7c71-4d82-8f39-0e4b130d6112",
        "colab": {
          "base_uri": "https://localhost:8080/",
          "height": 473
        }
      },
      "outputs": [
        {
          "output_type": "stream",
          "name": "stdout",
          "text": [
            "Changed dt\n"
          ]
        },
        {
          "output_type": "display_data",
          "data": {
            "text/plain": [
              "<Figure size 640x480 with 2 Axes>"
            ],
            "image/png": "[encoded data removed]"
          },
          "metadata": {}
        }
      ],
      "source": [
        "def run_and_plot_sim(t,v,i_stim):\n",
        "    h.run()\n",
        "       \n",
        "    # Plot results\n",
        "    fig = plt.figure()\n",
        "    ax = fig.add_subplot(211)\n",
        "    ax.plot(t,v)\n",
        "    ax.set_ylabel('V (mV)')\n",
        "    ax = fig.add_subplot(212)\n",
        "    ax.plot(t,i_stim*1e3)\n",
        "    ax.set_xlabel('time (ms)')\n",
        "    ax.set_ylabel('i (pA)')\n",
        "\n",
        "run_and_plot_sim(t,v,i_stim)"
      ]
    },
    {
      "cell_type": "markdown",
      "metadata": {
        "id": "NHUj1fcSh9k4"
      },
      "source": [
        "What happens if we set the passive conductance extremely low (effectively turning it off)? Try it and run/plot below with `run_and_plot_sim()`."
      ]
    },
    {
      "cell_type": "code",
      "execution_count": 41,
      "metadata": {
        "id": "9cO170wwh9k4",
        "outputId": "7fe5d226-88e9-4170-e89c-5956cf41845a",
        "colab": {
          "base_uri": "https://localhost:8080/",
          "height": 449
        }
      },
      "outputs": [
        {
          "output_type": "display_data",
          "data": {
            "text/plain": [
              "<Figure size 640x480 with 2 Axes>"
            ],
            "image/png": "[encoded data removed]"
          },
          "metadata": {}
        }
      ],
      "source": [
        "soma(0.5).g_pas = 1e-8\n",
        "\n",
        "run_and_plot_sim(t,v,i_stim)"
      ]
    },
    {
      "cell_type": "markdown",
      "metadata": {
        "id": "56ajsBs1h9k4"
      },
      "source": [
        "<span style=\"color:red\"> \n",
        "<b><i>Q2:</b></i> Describe what changed about the voltage dynamics and why, in terms of the model's electrical properties\n",
        "</span>"
      ]
    },
    {
      "cell_type": "markdown",
      "metadata": {
        "id": "YKA8sop-h9k5"
      },
      "source": [
        "# Simulating the Leaky integrate and fire model in Python\n",
        "\n",
        "So far, we've simulated the *passive* properties of neurons. But as we know, as soon as the membrane potential reaches a critical value, known as the *threshold*, neurons fire action potentials (or \"spikes\"). Next class, we'll start introducing the detailed model of the squid axon developed by Alan Hodgkin and Alduous Huxley in 1952, which has mostly held up for over 70 years. In the most basic terms, action potentials consist of a neuron's membrane voltage increasing due to inputs (whether from current injection or synapses), reaching a threshold, rapidly going to a high depolarized value, then returning back to the rest potential and being unable to fire for some period of time, termed the refractory period. \n",
        "\n",
        "People have modeled this \"phenomenologically\" for decades using the leaky integrate and fire neuron model, which simply adds a nonlinearity to this otherwise linear model. Whenever the votlage reaches a threshold (we define), we basically say the cell \"fired\", reset its potential to rest, and hold it there until the refractory period is over. Spikes are treated as an instantaneous event that's not actually captured by the voltage dynamics of the model. We could artificially force the voltage to a value of our choosing (say +40 mV), but typically people are more interested in the spike *timing* when using these models. \n",
        "\n",
        "The model the membrane is the same, we just add the rule described above to the integration scheme\n",
        "\n",
        "$\\frac{dV_{m}(t)}{dt} =  I(t)/C_{m} - \\frac{V_{m}(t) - V_{r}}{R_{m}C_{m}}$\n",
        "\n",
        "\n",
        "Since NEURON is made for biophysical neuron modeling, modeling the LIF neuron model is a little tricky. There's a built in model of integrate and fire neurons in NEURON ([here](https://www.neuron.yale.edu/neuron/static/py_doc/modelspec/programmatic/mechanisms/mech.html#IntFire4)), but the voltage at each point in time is hard to extract since takes advantage of the analytical solution for this model's voltage to speed up simulation and \"skip\" time points between action potentials. \n",
        "\n",
        "So below, I've included a version of this model I wrote in python. After that, I've included a version in NEURON that does the same thing, but  takes advantage of some more advanced functions that we won't cover just yet. "
      ]
    },
    {
      "cell_type": "code",
      "execution_count": 42,
      "metadata": {
        "id": "HSjriV2rh9k5"
      },
      "outputs": [],
      "source": [
        "def simLIFneuron(dt,tstop,V0,Rm,Cm,Vr,I,Vth,Vreset,refrac_per=2,AP_peak=40):\n",
        "    # dt - time step (ms)\n",
        "    # tstop - simulation duration/last time point (ms)\n",
        "    # V0 - initial membrane voltage (mV)\n",
        "    # Rm - membrane resistance (MOhm)\n",
        "    # Cm - membrane capacitance (nF)\n",
        "    # Vr - rest potential (mV)\n",
        "    # I - arbitrary current vector (nA)\n",
        "    # Vth - Threshold for AP firing (mV)\n",
        "    # refrac_per - refractory period (ms)\n",
        "    # AP_peak - peak AP value to set Vm after crossing threshold\n",
        "    t = np.arange(0,tstop+dt,dt) # time vector (ms)    \n",
        "    spike_times = []\n",
        "    Vm = np.zeros(t.shape)\n",
        "    Vm[0] = V0\n",
        "    for i in range(0,len(t)-1):        \n",
        "        dVm_dt = I[i]/Cm - (Vm[i] - Vr)/(Rm*Cm) # with I/Cm gives V/s (same as mV/ms) with I in nA, Cm in nF\n",
        "                                                     # Rm*Cm gives ms with Rm in MOhm and Cm in nF (1e6*1e-9 = 1e-3 sec)                                                             \n",
        "        if len(spike_times) > 0 and t[i+1] - spike_times[-1] < refrac_per:\n",
        "            Vm[i+1] = Vreset # Fix Vm at Vreset\n",
        "        else:\n",
        "            Vm[i+1] = dt*dVm_dt + Vm[i] # normal evolution of Vm\n",
        "        \n",
        "        if Vm[i+1] > Vth: # Vm crosses threshold for firing \n",
        "            Vm[i+1] = Vreset # set Vm to AP peak to simulate a spike in single time step\n",
        "            spike_times.append(t[i+1])            \n",
        "\n",
        "    return Vm,t,spike_times\n",
        "\n",
        "def genCurrentPulse(dt,tstop,I_del,I_dur,I_amp):\n",
        "    t = np.arange(0,tstop+dt,dt) # time vector (ms)    \n",
        "    I = np.zeros(t.shape) # A\n",
        "    I[np.logical_and(t > I_del, t <= I_del + I_dur)] = I_amp\n",
        "    return I, t"
      ]
    },
    {
      "cell_type": "markdown",
      "metadata": {
        "id": "lOiRk0ioh9k5"
      },
      "source": [
        "Make a function below to run and plot the output of these \"python\" simulations"
      ]
    },
    {
      "cell_type": "code",
      "execution_count": 43,
      "metadata": {
        "id": "k7QSKgPXh9k5"
      },
      "outputs": [],
      "source": [
        "def run_and_plot_LIFpy(dt,tstop,V0,Rm,Cm,Vr,Vth,Vreset,I_del,I_dur,I_amp,refrac_per=2,AP_peak=40):\n",
        "    \n",
        "    I, t = genCurrentPulse(dt,tstop,I_del,I_dur,I_amp)\n",
        "    Vm,t, spike_times = simLIFneuron(dt,tstop,V0,Rm,Cm,Vr,I,Vth,Vreset,refrac_per,AP_peak)\n",
        "\n",
        "\n",
        "    fig = plt.figure()\n",
        "    ax = fig.add_subplot(211)\n",
        "    ax.plot(t,Vm)\n",
        "    ax.set_ylabel('V (mV)')\n",
        "    ax = fig.add_subplot(212)\n",
        "    ax.plot(t,I)\n",
        "    ax.set_xlabel('time (ms)')\n",
        "    ax.set_ylabel('i (pA)')\n",
        "\n",
        "\n",
        "    return Vm, spike_times, I, t"
      ]
    },
    {
      "cell_type": "markdown",
      "metadata": {
        "id": "WZnC1vX9h9k5"
      },
      "source": [
        "Now, let's simulate a case of constant current injection into the model we started building earlier in NEURON.\n",
        "\n",
        "Again, we'll use a specific membrane resistance $R_{m} = 33 k \\Omega/cm^{2}$, reversal potential $E_{rev}=-65 mV$ and specific membrane capacitance $c_{m} = 1 \\mu F/cm^{2}$. You may notice, the surface area of a cylinder with diameter $diam$ and length $L$ equal to its diameter (which we used in NEURON) is the same as a sphere with the same diameter (which we modeled in previous exercises). This doesn't include the surface area of the caps, which aren't represented in the cable model. So, you can use either case to calculate the surface area for the model and you should get the same surface area as we got earlier. \n",
        "\n",
        "Apply a constant $50 \\; pA$ current injection starting at $5 \\; ms$, this time for $100 \\; ms$, and end your simulation at $150 \\; ms$. Set the initial voltage to the rest potential. \n",
        "\n",
        "For the LIF neuron model, we'll use a threshold of $40 \\; mV$, a refractory period of $4 \\; ms$, a reset potential of our rest potential, and peak AP of $40 \\; ms$ (this latter parameter doesn't matter and is pretty much just for visualization). "
      ]
    },
    {
      "cell_type": "code",
      "execution_count": null,
      "metadata": {
        "id": "IiX4j3rAh9k5"
      },
      "outputs": [],
      "source": [
        "# Model parameters\n",
        "# Your code goes here\n",
        "dt = .5 #ms\n",
        "tstop = 100 #ms\n",
        "V0 = -70 #mV\n",
        "Rm = 33*.001\n",
        "Cm = 1 * 1000\n",
        "Vr = -70 #mV WHAT VALUE SHOULD WE USE HERE??\n",
        "Vth = 40 \n",
        "I_del = 5\n",
        "I_dur = 20\n",
        "I_amp =.05 #nA\n",
        "refrac_per = 4\n",
        "Ap_peak = 40\n",
        "Vreset = Ap_peak #???\n",
        "# Stimulation parameters\n",
        "\n",
        "\n",
        "# Simulation parameters\n",
        "Vm, spike_times, I, t = run_and_plot_LIFpy(dt,tstop,V0,Rm,Cm,Vr,Vth,Vreset,I_del,I_dur,I_amp,refrac_per,Ap_peak)\n",
        "\n",
        "Vm, spike_times, I, t = run_and_plot_LIFpy()\n"
      ]
    },
    {
      "cell_type": "markdown",
      "metadata": {
        "id": "uFYuN-pAh9k6"
      },
      "source": [
        "# Simulating the Leaky integrate and fire model in NEURON\n",
        "\n",
        "To simulate the LIF neuron with its spiking mechanism in NEURON, we'll use a class I created called `LIFcell`. It includes all the relevant methods to generate the cell and store recordings. We'll use it below to do the same thing, but using the NEURON simulator instead. At the moment, it may not be obvious why we'd want to do this if we already have a Python implementation, but as we'll see, if you want to add new membrane conductances or connect neurons up into networks with synapses, NEURON's functionality will become really powerful. "
      ]
    },
    {
      "cell_type": "code",
      "execution_count": 44,
      "metadata": {
        "id": "U1VcZhk_h9k6",
        "outputId": "6d0abd80-005a-4c9e-f060-f7c7e2f0e474",
        "colab": {
          "base_uri": "https://localhost:8080/",
          "height": 36
        }
      },
      "outputs": [
        {
          "output_type": "execute_result",
          "data": {
            "text/plain": [
              "'./LIFcell.py'"
            ],
            "application/vnd.google.colaboratory.intrinsic+json": {
              "type": "string"
            }
          },
          "metadata": {},
          "execution_count": 44
        }
      ],
      "source": [
        "import shutil\n",
        "shutil.copy('CompModNervSys-LIFneuron/LIFcell.py','.') # copy LIF cell to current directory for easier importing"
      ]
    },
    {
      "cell_type": "code",
      "execution_count": 45,
      "metadata": {
        "id": "nQ5Hneu1h9k6",
        "outputId": "d710a4a7-41c9-4f53-9d1f-be7b6aa2394c",
        "colab": {
          "base_uri": "https://localhost:8080/"
        }
      },
      "outputs": [
        {
          "output_type": "stream",
          "name": "stdout",
          "text": [
            "\n",
            "|-|       soma(0-1)\n",
            "|-|       LIF[0].soma(0-1)\n",
            "\n"
          ]
        },
        {
          "output_type": "execute_result",
          "data": {
            "text/plain": [
              "1.0"
            ]
          },
          "metadata": {},
          "execution_count": 45
        }
      ],
      "source": [
        "from neuron import h # reimport in case run time was interrupted\n",
        "from neuron import gui # if you're running this notebook in a local environment (instead of on google colab), launches the GUI\n",
        "h.load_file('stdrun.hoc') # loads neuron standard hoc library, not always necessary \n",
        "h.nrn_load_dll('x86_64') \n",
        "\n",
        "from LIFcell import LIFcell\n",
        "\n",
        "# Create cell\n",
        "cell = LIFcell(0)\n",
        "cell._setup_recordings() # reinitalize recordings\n",
        "\n",
        "h.topology() # check that our new cell exists"
      ]
    },
    {
      "cell_type": "code",
      "execution_count": null,
      "metadata": {
        "id": "tj7vAWkHh9k6"
      },
      "outputs": [],
      "source": [
        "# Add stimulation\n",
        "iclamp = h.IClamp(cell.soma(0.5))\n",
        "\n",
        "# Set amplitude, delay (start time), and duration\n",
        "iclamp.amp = 0.05 # nA\n",
        "iclamp.delay = 5 # ms\n",
        "iclamp.dur = 100 # ms\n",
        "\n",
        "# Record current clamp again\n",
        "iclamp_rec = h.Vector()\n",
        "iclamp_rec.record(iclamp._ref_i)\n"
      ]
    },
    {
      "cell_type": "code",
      "execution_count": null,
      "metadata": {
        "id": "AjebVAOih9k6"
      },
      "outputs": [],
      "source": [
        "def run_and_plot_LIFnrn(cell,i_stim):\n",
        "    h.run()\n",
        "    t = cell.t.to_python(np.zeros(len(cell.t)))  # convert to numpy arrays (not actually necessary for plotting)\n",
        "    v = cell.soma_v.to_python(np.zeros(len(cell.soma_v)))\n",
        "    spike_times = cell.spike_times.to_python(np.zeros(len(cell.spike_times))) # this one does need to be a numpy array\n",
        "    i_stim = i_stim.to_python(np.zeros(len(i_stim))) # same here, numpy arrays allows multiplying by scalar but NEURON Vectors don't    \n",
        "    # Plot results\n",
        "    fig = plt.figure()\n",
        "    ax = fig.add_subplot(211)\n",
        "    ax.plot(t,v)\n",
        "    ax.vlines(spike_times,ymin=cell.soma(0.5).e_pas,ymax=40,colors='r')\n",
        "    ax.set_ylabel('V (mV)')\n",
        "    ax = fig.add_subplot(212)\n",
        "    ax.plot(t,i_stim*1e3)\n",
        "    ax.set_xlabel('time (ms)')\n",
        "    ax.set_ylabel('i (pA)')\n",
        "\n",
        "    return v, spike_times, i_stim, t\n",
        "\n"
      ]
    },
    {
      "cell_type": "code",
      "execution_count": null,
      "metadata": {
        "id": "NvuXQ0JWh9k6"
      },
      "outputs": [],
      "source": [
        "# Set simulation parameters\n",
        "h.dt = 0.1 # ms - time step\n",
        "h.v_init = cell.soma(0.5).e_pas # initial voltage (same as reversal potential)\n",
        "h.tstop = 150 # ms - simulation duration\n",
        "# Set the LIF model parameters\n",
        "h.thresh_SpikeOut = -40\t# (mV)\n",
        "h.refrac_SpikeOut = 4 # (ms)\n",
        "h.vrefrac_SpikeOut = cell.soma.e_pas # (mV) reset potential\n",
        "# Run and plot simulation\n",
        "\n",
        "v, spike_times, i_stim, t = run_and_plot_LIFnrn(cell,iclamp_rec)"
      ]
    },
    {
      "cell_type": "markdown",
      "metadata": {
        "id": "ogcStC71h9k7"
      },
      "source": [
        "The results may not be identical due to the different integration methods, but they should be pretty close. Let's use NEURON to see how varying the strength of stimulation alters the firing frequency. \n",
        "\n",
        "Below, in a `for` loop, vary the current amplitude over a reasonable range and measure the average frequency (number of spikes divided by duration of the stimulus). Then, plot the frequency in $Hz$ vs. the current amplitude. This is what's called an *F-I* curve of frequency-input curve. "
      ]
    },
    {
      "cell_type": "code",
      "execution_count": null,
      "metadata": {
        "id": "LYckRJ6ih9k7"
      },
      "outputs": [],
      "source": [
        "# Your code goes here"
      ]
    },
    {
      "cell_type": "markdown",
      "metadata": {
        "id": "adp5zEE-h9k7"
      },
      "source": [
        "Now, try modifying the membrane resistance using `cell.soma(0.5).g_pas` to double and half the current value and overlaying the F-I curves of these three models on the same axes.\n",
        "\n"
      ]
    },
    {
      "cell_type": "code",
      "execution_count": null,
      "metadata": {
        "id": "Qo11CkZ-h9k7"
      },
      "outputs": [],
      "source": [
        "# Your code goes here"
      ]
    },
    {
      "cell_type": "markdown",
      "metadata": {
        "id": "W7DEyJtch9k7"
      },
      "source": [
        "<span style=\"color:red\"> \n",
        "<b><i>Q3:</b></i> How does changing membrane resistance alter the F-I curve? What might this mean for the neuron's relative excitability in a network, i.e. how easily it can generate action potentials?\n",
        "</span>"
      ]
    }
  ],
  "metadata": {
    "colab": {
      "provenance": [],
      "toc_visible": true,
      "include_colab_link": true
    },
    "kernelspec": {
      "display_name": "cmns_env",
      "language": "python",
      "name": "python3"
    },
    "language_info": {
      "codemirror_mode": {
        "name": "ipython",
        "version": 3
      },
      "file_extension": ".py",
      "mimetype": "text/x-python",
      "name": "python",
      "nbconvert_exporter": "python",
      "pygments_lexer": "ipython3",
      "version": "3.9.16"
    },
    "vscode": {
      "interpreter": {
        "hash": "d0488761690764cced0e7b1e141a742f06ea2f3fa8f54952eb1b54a94bfd6a2a"
      }
    }
  },
  "nbformat": 4,
  "nbformat_minor": 0
}